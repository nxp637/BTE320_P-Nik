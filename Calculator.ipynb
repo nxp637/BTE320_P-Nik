{
  "nbformat": 4,
  "nbformat_minor": 0,
  "metadata": {
    "colab": {
      "provenance": [],
      "include_colab_link": true
    },
    "kernelspec": {
      "name": "python3",
      "display_name": "Python 3"
    },
    "language_info": {
      "name": "python"
    }
  },
  "cells": [
    {
      "cell_type": "markdown",
      "metadata": {
        "id": "view-in-github",
        "colab_type": "text"
      },
      "source": [
        "<a href=\"https://colab.research.google.com/github/nxp637/BTE320_P-Nik/blob/main/Calculator.ipynb\" target=\"_parent\"><img src=\"https://colab.research.google.com/assets/colab-badge.svg\" alt=\"Open In Colab\"/></a>"
      ]
    },
    {
      "cell_type": "code",
      "execution_count": null,
      "metadata": {
        "id": "iWOSFoW8FSB-"
      },
      "outputs": [],
      "source": [
        "#Calculator\n",
        "#Menu\n",
        "print('Please select an operation: \\n'\n",
        "'1) Addition \\n'\n",
        "'2) Subtraction \\n'\n",
        "'3) Multiplication \\n'\n",
        "'4) Power \\n'\n",
        "'5) Division \\n'\n",
        "'6) Division without Remainder \\n'\n",
        "'7) Remainder')\n",
        "while True:\n",
        "  selection = input('Select an operator from the list (1,2,3,4,5,6,7,): ')\n",
        "  first_number = float(input('Enter your first number: '))\n",
        "  second_number = float(input('Enter your second number: '))\n",
        "  if selection == 1:\n",
        "      answer = first_number + second_number\n",
        "      print('Your answer is: ', answer)\n",
        "  elif selection == 2:\n",
        "      answer = first_number - second_number\n",
        "      print('Your answer is: ', answer)\n",
        "  elif selection == 3:\n",
        "      answer = first_number * second_number\n",
        "      print('Your anser is: ', answer)\n",
        "  elif selection == 4:\n",
        "      answer = first_number ** second_number\n",
        "      print('Your answer is: ', answer)\n",
        "  elif selection == 5:\n",
        "      answer = first_number / second_number\n",
        "      print('Your answer is: ', answer)\n",
        "  elif selection == 6:\n",
        "      answer = first_number // second_number\n",
        "      print('Your answer is: ', answer)\n",
        "  elif selection == 7:\n",
        "      answer = first_number % second_number\n",
        "      print('Your answer is: ', answer)\n",
        "  elif selection == 'break':\n",
        "    break\n",
        "  else:\n",
        "    continue\n"
      ]
    }
  ]
}