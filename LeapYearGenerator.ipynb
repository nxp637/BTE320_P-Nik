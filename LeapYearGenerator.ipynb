{
  "nbformat": 4,
  "nbformat_minor": 0,
  "metadata": {
    "colab": {
      "provenance": [],
      "include_colab_link": true
    },
    "kernelspec": {
      "name": "python3",
      "display_name": "Python 3"
    },
    "language_info": {
      "name": "python"
    }
  },
  "cells": [
    {
      "cell_type": "markdown",
      "metadata": {
        "id": "view-in-github",
        "colab_type": "text"
      },
      "source": [
        "<a href=\"https://colab.research.google.com/github/nxp637/BTE320_P-Nik/blob/main/LeapYearGenerator.ipynb\" target=\"_parent\"><img src=\"https://colab.research.google.com/assets/colab-badge.svg\" alt=\"Open In Colab\"/></a>"
      ]
    },
    {
      "cell_type": "code",
      "execution_count": null,
      "metadata": {
        "id": "LDsRZ7mYEy4R"
      },
      "outputs": [],
      "source": [
        "#LEAP YEAR GENERATOR\n",
        "user_input = int(input('Enter a year: '))\n",
        "print ('You selected year: ', user_input)\n",
        "if(( user_input % 4 == 0) and ( user_input % 100 != 0)) or (user_input % 400 == 0):\n",
        "  print('Leap Year')\n",
        "else:\n",
        "  print('Not a leap Year')\n",
        "\n"
      ]
    }
  ]
}