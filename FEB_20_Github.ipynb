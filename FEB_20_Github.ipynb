{
  "nbformat": 4,
  "nbformat_minor": 0,
  "metadata": {
    "colab": {
      "provenance": [],
      "authorship_tag": "ABX9TyMDeAWVxh1xr+RTBJIUbL1g",
      "include_colab_link": true
    },
    "kernelspec": {
      "name": "python3",
      "display_name": "Python 3"
    },
    "language_info": {
      "name": "python"
    }
  },
  "cells": [
    {
      "cell_type": "markdown",
      "metadata": {
        "id": "view-in-github",
        "colab_type": "text"
      },
      "source": [
        "<a href=\"https://colab.research.google.com/github/nxp637/BTE320_P-Nik/blob/main/FEB_20_Github.ipynb\" target=\"_parent\"><img src=\"https://colab.research.google.com/assets/colab-badge.svg\" alt=\"Open In Colab\"/></a>"
      ]
    },
    {
      "cell_type": "code",
      "execution_count": 19,
      "metadata": {
        "colab": {
          "base_uri": "https://localhost:8080/"
        },
        "id": "aTjCJfrCEGOd",
        "outputId": "58ee9cb0-08ce-4b71-f1b6-6824794294ba"
      },
      "outputs": [
        {
          "output_type": "stream",
          "name": "stdout",
          "text": [
            "enter a MM/DD/YY:02/20/2024\n",
            "The month is 02\n",
            "The day is 20\n",
            "The year is 2024\n"
          ]
        }
      ],
      "source": [
        "date = input('enter a MM/DD/YY:')\n",
        "print(f'The month is {date[0:2]}')\n",
        "print(f'The day is {date[3:5]}')\n",
        "print(f'The year is {date[6:10]}')"
      ]
    },
    {
      "cell_type": "code",
      "source": [],
      "metadata": {
        "id": "wKNV_BhyFxKq"
      },
      "execution_count": null,
      "outputs": []
    }
  ]
}