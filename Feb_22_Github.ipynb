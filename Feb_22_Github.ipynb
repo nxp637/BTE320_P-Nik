{
  "nbformat": 4,
  "nbformat_minor": 0,
  "metadata": {
    "colab": {
      "provenance": [],
      "authorship_tag": "ABX9TyPU+XpPTq0hfYrJHO//CK7I",
      "include_colab_link": true
    },
    "kernelspec": {
      "name": "python3",
      "display_name": "Python 3"
    },
    "language_info": {
      "name": "python"
    }
  },
  "cells": [
    {
      "cell_type": "markdown",
      "metadata": {
        "id": "view-in-github",
        "colab_type": "text"
      },
      "source": [
        "<a href=\"https://colab.research.google.com/github/nxp637/BTE320_P-Nik/blob/main/Feb_22_Github.ipynb\" target=\"_parent\"><img src=\"https://colab.research.google.com/assets/colab-badge.svg\" alt=\"Open In Colab\"/></a>"
      ]
    },
    {
      "cell_type": "code",
      "execution_count": 1,
      "metadata": {
        "id": "pQjWzvVjWDtF",
        "outputId": "1a977bf4-deb2-4fb8-e861-cae19eecf109",
        "colab": {
          "base_uri": "https://localhost:8080/"
        }
      },
      "outputs": [
        {
          "output_type": "stream",
          "name": "stdout",
          "text": [
            "f\n",
            "g\n",
            "f\n",
            "g\n"
          ]
        }
      ],
      "source": [
        "s3 = \"abcdefg\"\n",
        "s4 = \"fghijk\"\n",
        "for index in range (len(s3)):\n",
        "  if  s3[index] in s4:\n",
        "    print(s3[index])\n",
        "for char in s3:\n",
        "  if char in s4:\n",
        "    print(char)"
      ]
    }
  ]
}