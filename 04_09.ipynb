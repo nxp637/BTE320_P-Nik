{
  "nbformat": 4,
  "nbformat_minor": 0,
  "metadata": {
    "colab": {
      "provenance": [],
      "authorship_tag": "ABX9TyOAii4SVyz6jhn8Zlxx9Fw1",
      "include_colab_link": true
    },
    "kernelspec": {
      "name": "python3",
      "display_name": "Python 3"
    },
    "language_info": {
      "name": "python"
    }
  },
  "cells": [
    {
      "cell_type": "markdown",
      "metadata": {
        "id": "view-in-github",
        "colab_type": "text"
      },
      "source": [
        "<a href=\"https://colab.research.google.com/github/nxp637/BTE320_P-Nik/blob/main/04_09.ipynb\" target=\"_parent\"><img src=\"https://colab.research.google.com/assets/colab-badge.svg\" alt=\"Open In Colab\"/></a>"
      ]
    },
    {
      "cell_type": "code",
      "execution_count": 14,
      "metadata": {
        "colab": {
          "base_uri": "https://localhost:8080/"
        },
        "id": "fOk62Acq-ZFs",
        "outputId": "2805bfba-a9f2-47ff-d541-d7a04e6f9a16"
      },
      "outputs": [
        {
          "output_type": "stream",
          "name": "stdout",
          "text": [
            "The list is empty\n"
          ]
        }
      ],
      "source": [
        "def avg(alist):\n",
        "  try:\n",
        "    return sum(alist)/len(alist)\n",
        "  except ZeroDivisionError:\n",
        "    print('The list is empty')\n",
        "    return\n",
        "  except TypeError:\n",
        "    print('The list is not purely numerical!')\n",
        "    return float('nan')\n",
        "\n",
        "l = []\n",
        "avg(l)"
      ]
    }
  ]
}