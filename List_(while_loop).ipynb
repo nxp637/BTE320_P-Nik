{
  "nbformat": 4,
  "nbformat_minor": 0,
  "metadata": {
    "colab": {
      "provenance": [],
      "include_colab_link": true
    },
    "kernelspec": {
      "name": "python3",
      "display_name": "Python 3"
    },
    "language_info": {
      "name": "python"
    }
  },
  "cells": [
    {
      "cell_type": "markdown",
      "metadata": {
        "id": "view-in-github",
        "colab_type": "text"
      },
      "source": [
        "<a href=\"https://colab.research.google.com/github/nxp637/BTE320_P-Nik/blob/main/List_(while_loop).ipynb\" target=\"_parent\"><img src=\"https://colab.research.google.com/assets/colab-badge.svg\" alt=\"Open In Colab\"/></a>"
      ]
    },
    {
      "cell_type": "code",
      "execution_count": null,
      "metadata": {
        "colab": {
          "base_uri": "https://localhost:8080/"
        },
        "id": "bP9QEXWZhnw7",
        "outputId": "dde3534b-efc3-4990-d8d9-bd5f200b88c8"
      },
      "outputs": [
        {
          "output_type": "stream",
          "name": "stdout",
          "text": [
            "enter the value:1\n",
            "enter the value:22\n",
            "enter the value:3\n",
            "enter the value:0\n",
            "[1, 22, 3]\n"
          ]
        }
      ],
      "source": [
        "a = 1\n",
        "L = []\n",
        "a = int(input('enter the value:'))\n",
        "while a != 0:\n",
        "  L.append(a)\n",
        "  a = int(input('enter the value:'))\n",
        "2\n",
        "print(L)"
      ]
    }
  ]
}